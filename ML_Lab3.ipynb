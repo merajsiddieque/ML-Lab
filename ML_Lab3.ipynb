{
  "nbformat": 4,
  "nbformat_minor": 0,
  "metadata": {
    "colab": {
      "provenance": [],
      "include_colab_link": true
    },
    "kernelspec": {
      "name": "python3",
      "display_name": "Python 3"
    },
    "language_info": {
      "name": "python"
    }
  },
  "cells": [
    {
      "cell_type": "markdown",
      "metadata": {
        "id": "view-in-github",
        "colab_type": "text"
      },
      "source": [
        "<a href=\"https://colab.research.google.com/github/merajsiddieque/ML-Lab/blob/main/ML_Lab3.ipynb\" target=\"_parent\"><img src=\"https://colab.research.google.com/assets/colab-badge.svg\" alt=\"Open In Colab\"/></a>"
      ]
    },
    {
      "cell_type": "code",
      "execution_count": null,
      "metadata": {
        "id": "E913FNRYR_tn"
      },
      "outputs": [],
      "source": [
        "import numpy as np\n",
        "import pandas as pd\n",
        "from sklearn.preprocessing import StandardScaler"
      ]
    },
    {
      "cell_type": "code",
      "source": [
        "df = pd.read_csv('Housing.csv')"
      ],
      "metadata": {
        "id": "FIQ_EnuSUMCa"
      },
      "execution_count": null,
      "outputs": []
    },
    {
      "cell_type": "code",
      "source": [
        "df.columns\n"
      ],
      "metadata": {
        "colab": {
          "base_uri": "https://localhost:8080/"
        },
        "id": "CZlQkdp_4ZN-",
        "outputId": "1d20dc5c-6ee0-4304-b94d-cfb768a8394e"
      },
      "execution_count": null,
      "outputs": [
        {
          "output_type": "execute_result",
          "data": {
            "text/plain": [
              "Index(['price', 'area', 'bedrooms', 'bathrooms', 'stories', 'mainroad',\n",
              "       'guestroom', 'basement', 'hotwaterheating', 'airconditioning',\n",
              "       'parking', 'prefarea', 'furnishingstatus'],\n",
              "      dtype='object')"
            ]
          },
          "metadata": {},
          "execution_count": 5
        }
      ]
    },
    {
      "cell_type": "code",
      "source": [
        "df.info()"
      ],
      "metadata": {
        "colab": {
          "base_uri": "https://localhost:8080/"
        },
        "id": "yqkNtlQh5gvl",
        "outputId": "563fce3f-655b-4fbf-bc3a-45d25cb3dd44"
      },
      "execution_count": null,
      "outputs": [
        {
          "output_type": "stream",
          "name": "stdout",
          "text": [
            "<class 'pandas.core.frame.DataFrame'>\n",
            "RangeIndex: 545 entries, 0 to 544\n",
            "Data columns (total 13 columns):\n",
            " #   Column            Non-Null Count  Dtype \n",
            "---  ------            --------------  ----- \n",
            " 0   price             545 non-null    int64 \n",
            " 1   area              545 non-null    int64 \n",
            " 2   bedrooms          545 non-null    int64 \n",
            " 3   bathrooms         545 non-null    int64 \n",
            " 4   stories           545 non-null    int64 \n",
            " 5   mainroad          545 non-null    object\n",
            " 6   guestroom         545 non-null    object\n",
            " 7   basement          545 non-null    object\n",
            " 8   hotwaterheating   545 non-null    object\n",
            " 9   airconditioning   545 non-null    object\n",
            " 10  parking           545 non-null    int64 \n",
            " 11  prefarea          545 non-null    object\n",
            " 12  furnishingstatus  545 non-null    object\n",
            "dtypes: int64(6), object(7)\n",
            "memory usage: 55.5+ KB\n"
          ]
        }
      ]
    },
    {
      "cell_type": "code",
      "source": [
        "X = df.drop(\"price\", axis=1)\n"
      ],
      "metadata": {
        "id": "fWim6S0Q5F5J"
      },
      "execution_count": null,
      "outputs": []
    },
    {
      "cell_type": "code",
      "source": [
        "# Convert categorical columns to numeric using one-hot encoding\n",
        "X = pd.get_dummies(X, drop_first=True)"
      ],
      "metadata": {
        "id": "PwNFsT4t6OGd"
      },
      "execution_count": null,
      "outputs": []
    },
    {
      "cell_type": "code",
      "source": [
        "scaler = StandardScaler()\n",
        "X_scaled = scaler.fit_transform(X)"
      ],
      "metadata": {
        "id": "7J1lH8M95bAo"
      },
      "execution_count": null,
      "outputs": []
    },
    {
      "cell_type": "code",
      "source": [
        "# Mean-center\n",
        "mu = np.mean(X_scaled, axis=0)\n",
        "A = X_scaled - mu"
      ],
      "metadata": {
        "id": "oeCxp25k5dkU"
      },
      "execution_count": null,
      "outputs": []
    },
    {
      "cell_type": "code",
      "source": [
        "# Covariance matrix\n",
        "C = np.dot(A.T, A)"
      ],
      "metadata": {
        "id": "wdFkNN0064ta"
      },
      "execution_count": null,
      "outputs": []
    },
    {
      "cell_type": "code",
      "source": [
        "# Eigen decomposition\n",
        "eigvals, eigvecs = np.linalg.eigh(C)"
      ],
      "metadata": {
        "id": "ZLSU64VG65tT"
      },
      "execution_count": null,
      "outputs": []
    },
    {
      "cell_type": "code",
      "source": [
        "idx = np.argsort(eigvals)[::-1]\n",
        "eigvals = eigvals[idx]\n",
        "eigvecs = eigvecs[:, idx]"
      ],
      "metadata": {
        "id": "HSlhRop169AW"
      },
      "execution_count": null,
      "outputs": []
    },
    {
      "cell_type": "code",
      "source": [
        "# Function to compute reconstruction error for top n eigenvectors\n",
        "def reconstruction_error(A, eigvecs, n):\n",
        "    # take top n eigenvectors\n",
        "    E = eigvecs[:, :n]\n",
        "\n",
        "    errors = []\n",
        "    for i in range(A.shape[0]):\n",
        "        ai = A[i, :]\n",
        "        # projection on eigenspace\n",
        "        w = np.dot(E.T, ai)\n",
        "        # linear combination\n",
        "        li = np.dot(E, w)\n",
        "        # reconstruction\n",
        "        ri = li + mu\n",
        "        # error (squared norm)\n",
        "        err = np.linalg.norm((ai + mu) - ri) ** 2\n",
        "        errors.append(err)\n",
        "\n",
        "    return np.mean(errors)"
      ],
      "metadata": {
        "id": "vgRtjy3V7FfI"
      },
      "execution_count": null,
      "outputs": []
    },
    {
      "cell_type": "code",
      "source": [
        "# Experiment with different n\n",
        "n_values = [1, 2, 3, 5, 7, 10, 15]\n",
        "errors = {n: reconstruction_error(A, eigvecs, n) for n in n_values}"
      ],
      "metadata": {
        "id": "II2ucGwd7Img"
      },
      "execution_count": null,
      "outputs": []
    },
    {
      "cell_type": "code",
      "source": [
        "print(\"Reconstruction Errors for Housing.csv:\")\n",
        "for n, err in errors.items():\n",
        "    print(f\"n={n}: {err:.4f}\")"
      ],
      "metadata": {
        "colab": {
          "base_uri": "https://localhost:8080/"
        },
        "id": "5VXHPBKl7n-5",
        "outputId": "86da25c4-804d-4279-bc6e-c2f6c95f7dc0"
      },
      "execution_count": null,
      "outputs": [
        {
          "output_type": "stream",
          "name": "stdout",
          "text": [
            "Reconstruction Errors for Housing.csv:\n",
            "n=1: 10.5303\n",
            "n=2: 8.9575\n",
            "n=3: 7.4574\n",
            "n=5: 5.0970\n",
            "n=7: 3.3809\n",
            "n=10: 1.3663\n",
            "n=15: 0.0000\n"
          ]
        }
      ]
    },
    {
      "cell_type": "code",
      "source": [
        "import matplotlib.pyplot as plt\n",
        "\n",
        "# Plot reconstruction error graph\n",
        "plt.figure(figsize=(8,5))\n",
        "plt.plot(list(errors.keys()), list(errors.values()), marker='o', linestyle='-', linewidth=2)\n",
        "plt.xlabel(\"Number of Eigenvectors (n)\")\n",
        "plt.ylabel(\"Reconstruction Error\")\n",
        "plt.title(\"Reconstruction Error vs. Number of Eigenvectors (Housing.csv)\")\n",
        "plt.grid(True)\n",
        "plt.show()\n"
      ],
      "metadata": {
        "colab": {
          "base_uri": "https://localhost:8080/",
          "height": 487
        },
        "id": "zlwOOFK07qXR",
        "outputId": "84e67e65-7f42-43ab-fdd0-2f1a8ebb44cb"
      },
      "execution_count": null,
      "outputs": [
        {
          "output_type": "display_data",
          "data": {
            "text/plain": [
              "<Figure size 800x500 with 1 Axes>"
            ],
            "image/png": "[encoded data removed]"
          },
          "metadata": {}
        }
      ]
    },
    {
      "cell_type": "code",
      "source": [
        "import numpy as np\n",
        "import pandas as pd\n",
        "import matplotlib.pyplot as plt\n",
        "from sklearn.preprocessing import StandardScaler\n",
        "from sklearn.model_selection import train_test_split"
      ],
      "metadata": {
        "id": "jzOprSsY8JKf"
      },
      "execution_count": 9,
      "outputs": []
    },
    {
      "cell_type": "code",
      "source": [
        "# ---------- Utility functions ----------\n",
        "def mse_loss(X, y, w):\n",
        "    y_pred = X @ w\n",
        "    return np.mean((y - y_pred) ** 2)\n",
        "\n",
        "def gradient(X, y, w):\n",
        "    return -(2 / X.shape[0]) * (X.T @ (y - X @ w))"
      ],
      "metadata": {
        "id": "k_IYU9oM8mmd"
      },
      "execution_count": 28,
      "outputs": []
    },
    {
      "cell_type": "code",
      "source": [
        "def gradient_descent(X, y, lr=0.01, epochs=100, tol=1e-6):\n",
        "    w = np.zeros((X.shape[1], 1))\n",
        "    losses = []\n",
        "    for _ in range(epochs):\n",
        "        grad = gradient(X, y, w)\n",
        "        w -= lr * grad\n",
        "        losses.append(mse_loss(X, y, w))\n",
        "        if len(losses) > 2 and abs(losses[-2] - losses[-1]) < tol:\n",
        "            break\n",
        "    return w, losses"
      ],
      "metadata": {
        "id": "aqiKReXz8ncS"
      },
      "execution_count": 29,
      "outputs": []
    },
    {
      "cell_type": "code",
      "source": [
        "def momentum_gd(X, y, lr=0.01, gamma=0.9, epochs=100, tol=1e-6):\n",
        "    w = np.zeros((X.shape[1], 1))\n",
        "    v = np.zeros_like(w)\n",
        "    losses = []\n",
        "    for _ in range(epochs):\n",
        "        grad = gradient(X, y, w)\n",
        "        v = gamma * v + lr * grad\n",
        "        w -= v\n",
        "        losses.append(mse_loss(X, y, w))\n",
        "        if len(losses) > 2 and abs(losses[-2] - losses[-1]) < tol:\n",
        "            break\n",
        "    return w, losses"
      ],
      "metadata": {
        "id": "Dln7yMDX8qka"
      },
      "execution_count": 30,
      "outputs": []
    },
    {
      "cell_type": "code",
      "source": [
        "def nag(X, y, lr=0.01, gamma=0.9, epochs=100, tol=1e-6):\n",
        "    w = np.zeros((X.shape[1], 1))\n",
        "    v = np.zeros_like(w)\n",
        "    losses = []\n",
        "    for _ in range(epochs):\n",
        "        grad = gradient(X, y, w - gamma * v)\n",
        "        v = gamma * v + lr * grad\n",
        "        w -= v\n",
        "        losses.append(mse_loss(X, y, w))\n",
        "        if len(losses) > 2 and abs(losses[-2] - losses[-1]) < tol:\n",
        "            break\n",
        "    return w, losses"
      ],
      "metadata": {
        "id": "lZP9JrN98tqz"
      },
      "execution_count": 31,
      "outputs": []
    },
    {
      "cell_type": "code",
      "source": [
        "# Load dataset\n",
        "df = pd.read_csv(\"/content/advertising.csv\").dropna()\n"
      ],
      "metadata": {
        "id": "A3Xx7kTb8wDl"
      },
      "execution_count": 66,
      "outputs": []
    },
    {
      "cell_type": "code",
      "source": [
        "\n",
        "# Separate X, y\n",
        "y = df[\"Sales\"].values.reshape(-1, 1)   # Sales for advertising dataset, price for Housing and FATAL_FLAG for faa_ai_prelim\n",
        "X = df.drop(\"Sales\", axis=1)"
      ],
      "metadata": {
        "id": "fE2_yAKg82Y9"
      },
      "execution_count": 67,
      "outputs": []
    },
    {
      "cell_type": "code",
      "source": [
        "# Encode categorical features\n",
        "X = pd.get_dummies(X, drop_first=True)"
      ],
      "metadata": {
        "id": "0SFziiSq83Fr"
      },
      "execution_count": 68,
      "outputs": []
    },
    {
      "cell_type": "code",
      "source": [
        "import numpy as np\n",
        "from sklearn.preprocessing import StandardScaler\n",
        "\n",
        "# Replace NaN with 0\n",
        "X = np.nan_to_num(X, nan=0.0)\n",
        "\n",
        "# Scale\n",
        "scaler = StandardScaler()\n",
        "X_scaled = scaler.fit_transform(X)\n"
      ],
      "metadata": {
        "id": "z9BwK_nz85Tb"
      },
      "execution_count": 69,
      "outputs": []
    },
    {
      "cell_type": "code",
      "source": [
        "# Add bias term (intercept)\n",
        "X = np.c_[np.ones(X.shape[0]), X]"
      ],
      "metadata": {
        "id": "9l8GVDHX87JE"
      },
      "execution_count": 70,
      "outputs": []
    },
    {
      "cell_type": "code",
      "source": [
        "# Train-test split\n",
        "X_train, X_test, y_train, y_test = train_test_split(X, y, test_size=0.2, random_state=42)\n"
      ],
      "metadata": {
        "id": "w7Nk4S2w89ci"
      },
      "execution_count": 71,
      "outputs": []
    },
    {
      "cell_type": "code",
      "source": [
        "# Run optimizers\n",
        "_, loss_gd = gradient_descent(X_train, y_train, lr=0.01, epochs=200)\n",
        "_, loss_momentum = momentum_gd(X_train, y_train, lr=0.01, gamma=0.9, epochs=200)\n",
        "_, loss_nag = nag(X_train, y_train, lr=0.01, gamma=0.9, epochs=200)"
      ],
      "metadata": {
        "id": "adAxOKKZ8_nl",
        "colab": {
          "base_uri": "https://localhost:8080/"
        },
        "outputId": "3bdeb9a3-c806-4d93-8b13-adf3c6379321"
      },
      "execution_count": 72,
      "outputs": [
        {
          "output_type": "stream",
          "name": "stderr",
          "text": [
            "/tmp/ipython-input-588798246.py:4: RuntimeWarning: overflow encountered in square\n",
            "  return np.mean((y - y_pred) ** 2)\n",
            "/tmp/ipython-input-1306738324.py:8: RuntimeWarning: invalid value encountered in scalar subtract\n",
            "  if len(losses) > 2 and abs(losses[-2] - losses[-1]) < tol:\n",
            "/tmp/ipython-input-588798246.py:7: RuntimeWarning: overflow encountered in matmul\n",
            "  return -(2 / X.shape[0]) * (X.T @ (y - X @ w))\n",
            "/tmp/ipython-input-588798246.py:3: RuntimeWarning: invalid value encountered in matmul\n",
            "  y_pred = X @ w\n",
            "/tmp/ipython-input-588798246.py:7: RuntimeWarning: invalid value encountered in matmul\n",
            "  return -(2 / X.shape[0]) * (X.T @ (y - X @ w))\n",
            "/tmp/ipython-input-677999826.py:10: RuntimeWarning: invalid value encountered in scalar subtract\n",
            "  if len(losses) > 2 and abs(losses[-2] - losses[-1]) < tol:\n",
            "/usr/local/lib/python3.12/dist-packages/numpy/_core/_methods.py:127: RuntimeWarning: overflow encountered in reduce\n",
            "  ret = umr_sum(arr, axis, dtype, out, keepdims, where=where)\n"
          ]
        }
      ]
    },
    {
      "cell_type": "code",
      "source": [
        "# Plot comparison\n",
        "plt.figure(figsize=(8,5))\n",
        "plt.plot(loss_gd, label=\"GD\")\n",
        "plt.plot(loss_momentum, label=\"Momentum GD\")\n",
        "plt.plot(loss_nag, label=\"NAG\")\n",
        "plt.xlabel(\"Epochs\")\n",
        "plt.ylabel(\"Training Loss (MSE)\")\n",
        "plt.title(\"Convergence Comparison (Housing Dataset)\")\n",
        "plt.legend()\n",
        "plt.grid(True)\n",
        "plt.show()"
      ],
      "metadata": {
        "colab": {
          "base_uri": "https://localhost:8080/",
          "height": 487
        },
        "id": "LKLgcGm29CJX",
        "outputId": "46e9933f-07c7-493c-bf5d-fa479488a2cf"
      },
      "execution_count": 73,
      "outputs": [
        {
          "output_type": "display_data",
          "data": {
            "text/plain": [
              "<Figure size 800x500 with 1 Axes>"
            ],
            "image/png": "[encoded data removed]"
          },
          "metadata": {}
        }
      ]
    },
    {
      "cell_type": "code",
      "source": [
        "import pandas as pd\n",
        "import numpy as np\n",
        "from sklearn.model_selection import train_test_split\n",
        "from sklearn.preprocessing import StandardScaler\n",
        "\n",
        "# Load dataset\n",
        "df = pd.read_csv(\"/content/faa_ai_prelim.csv\")\n",
        "\n",
        "# Features & target\n",
        "X = pd.get_dummies(df.drop(\"FATAL_FLAG\", axis=1), drop_first=True)\n",
        "y = df[\"FATAL_FLAG\"].map({\"Y\": 1, \"N\": 0})   # encode if categorical\n",
        "\n",
        "# Fill NaNs\n",
        "X = X.fillna(0)\n",
        "\n",
        "# Train-test split\n",
        "X_train, X_test, y_train, y_test = train_test_split(X, y, test_size=0.2, random_state=42)\n",
        "\n",
        "# Scale\n",
        "scaler = StandardScaler()\n",
        "X_train = scaler.fit_transform(X_train)\n",
        "X_test = scaler.transform(X_test)\n",
        "\n",
        "# Convert target\n",
        "y_train = y_train.values\n",
        "y_test = y_test.values\n"
      ],
      "metadata": {
        "id": "VLzbnYprAKj4"
      },
      "execution_count": 76,
      "outputs": []
    },
    {
      "cell_type": "code",
      "source": [
        "def sigmoid(z):\n",
        "    return 1 / (1 + np.exp(-z))\n",
        "\n",
        "def compute_loss(X, y, w):\n",
        "    m = X.shape[0]\n",
        "    y_pred = sigmoid(X.dot(w))\n",
        "    loss = -(1/m) * np.sum(y*np.log(y_pred+1e-8) + (1-y)*np.log(1-y_pred+1e-8))\n",
        "    return loss\n",
        "\n",
        "def compute_grad(X, y, w):\n",
        "    m = X.shape[0]\n",
        "    y_pred = sigmoid(X.dot(w))\n",
        "    grad = (1/m) * X.T.dot(y_pred - y)\n",
        "    return grad\n"
      ],
      "metadata": {
        "id": "l4FtLGYyEC10"
      },
      "execution_count": 77,
      "outputs": []
    },
    {
      "cell_type": "code",
      "source": [
        "def nag(X, y, lr=0.01, gamma=0.9, epochs=200):\n",
        "    w = np.zeros(X.shape[1])\n",
        "    v = np.zeros_like(w)\n",
        "    losses = []\n",
        "    for _ in range(epochs):\n",
        "        grad = compute_grad(X, y, w - gamma*v)  # lookahead\n",
        "        v = gamma * v + lr * grad\n",
        "        w -= v\n",
        "        losses.append(compute_loss(X, y, w))\n",
        "    return w, losses\n"
      ],
      "metadata": {
        "id": "5xKl82OSEF6F"
      },
      "execution_count": 78,
      "outputs": []
    },
    {
      "cell_type": "code",
      "source": [
        "def momentum_gd(X, y, lr=0.01, gamma=0.9, epochs=200):\n",
        "    w = np.zeros(X.shape[1])\n",
        "    v = np.zeros_like(w)\n",
        "    losses = []\n",
        "    for _ in range(epochs):\n",
        "        grad = compute_grad(X, y, w)\n",
        "        v = gamma * v + lr * grad\n",
        "        w -= v\n",
        "        losses.append(compute_loss(X, y, w))\n",
        "    return w, losses\n"
      ],
      "metadata": {
        "id": "MuwiSXSnEJc6"
      },
      "execution_count": 79,
      "outputs": []
    },
    {
      "cell_type": "code",
      "source": [
        "def gradient_descent(X, y, lr=0.01, epochs=200):\n",
        "    w = np.zeros(X.shape[1])\n",
        "    losses = []\n",
        "    for _ in range(epochs):\n",
        "        grad = compute_grad(X, y, w)\n",
        "        w -= lr * grad\n",
        "        losses.append(compute_loss(X, y, w))\n",
        "    return w, losses\n"
      ],
      "metadata": {
        "id": "vtavsN3qEKM4"
      },
      "execution_count": 80,
      "outputs": []
    },
    {
      "cell_type": "code",
      "source": [
        "# Train with all 3 optimizers\n",
        "_, loss_gd = gradient_descent(X_train, y_train, lr=0.01, epochs=200)\n",
        "_, loss_momentum = momentum_gd(X_train, y_train, lr=0.01, gamma=0.9, epochs=200)\n",
        "_, loss_nag = nag(X_train, y_train, lr=0.01, gamma=0.9, epochs=200)\n",
        "\n",
        "# Plot convergence\n",
        "import matplotlib.pyplot as plt\n",
        "\n",
        "plt.plot(loss_gd, label=\"Gradient Descent\")\n",
        "plt.plot(loss_momentum, label=\"Momentum\")\n",
        "plt.plot(loss_nag, label=\"NAG\")\n",
        "plt.xlabel(\"Epochs\")\n",
        "plt.ylabel(\"Loss\")\n",
        "plt.title(\"Convergence of GD, Momentum, and NAG\")\n",
        "plt.legend()\n",
        "plt.show()\n"
      ],
      "metadata": {
        "colab": {
          "base_uri": "https://localhost:8080/",
          "height": 472
        },
        "id": "pVkoH_gYEK5n",
        "outputId": "1f6bbfe2-d365-4165-d86a-af86eb4b2170"
      },
      "execution_count": 81,
      "outputs": [
        {
          "output_type": "display_data",
          "data": {
            "text/plain": [
              "<Figure size 640x480 with 1 Axes>"
            ],
            "image/png": "[encoded data removed]"
          },
          "metadata": {}
        }
      ]
    },
    {
      "cell_type": "code",
      "source": [],
      "metadata": {
        "id": "gpKI4K71EM_i"
      },
      "execution_count": null,
      "outputs": []
    }
  ]
}